{
 "cells": [
  {
   "cell_type": "code",
   "execution_count": 1,
   "metadata": {},
   "outputs": [],
   "source": [
    "# Step 1: Import Libraries and Load the Model\n",
    "import numpy as np\n",
    "import tensorflow as tf\n",
    "from tensorflow.keras.datasets import imdb\n",
    "from tensorflow.keras.preprocessing import sequence\n",
    "from tensorflow.keras.models import load_model"
   ]
  },
  {
   "cell_type": "code",
   "execution_count": 2,
   "metadata": {},
   "outputs": [],
   "source": [
    "\n",
    "# Load the IMDB dataset word index\n",
    "word_index = imdb.get_word_index()\n",
    "reverse_word_index = {value: key for key, value in word_index.items()}"
   ]
  },
  {
   "cell_type": "code",
   "execution_count": 3,
   "metadata": {},
   "outputs": [
    {
     "name": "stderr",
     "output_type": "stream",
     "text": [
      "WARNING:absl:Compiled the loaded model, but the compiled metrics have yet to be built. `model.compile_metrics` will be empty until you train or evaluate the model.\n"
     ]
    },
    {
     "data": {
      "text/html": [
       "<pre style=\"white-space:pre;overflow-x:auto;line-height:normal;font-family:Menlo,'DejaVu Sans Mono',consolas,'Courier New',monospace\"><span style=\"font-weight: bold\">Model: \"sequential_2\"</span>\n",
       "</pre>\n"
      ],
      "text/plain": [
       "\u001b[1mModel: \"sequential_2\"\u001b[0m\n"
      ]
     },
     "metadata": {},
     "output_type": "display_data"
    },
    {
     "data": {
      "text/html": [
       "<pre style=\"white-space:pre;overflow-x:auto;line-height:normal;font-family:Menlo,'DejaVu Sans Mono',consolas,'Courier New',monospace\">┏━━━━━━━━━━━━━━━━━━━━━━━━━━━━━━━━━┳━━━━━━━━━━━━━━━━━━━━━━━━┳━━━━━━━━━━━━━━━┓\n",
       "┃<span style=\"font-weight: bold\"> Layer (type)                    </span>┃<span style=\"font-weight: bold\"> Output Shape           </span>┃<span style=\"font-weight: bold\">       Param # </span>┃\n",
       "┡━━━━━━━━━━━━━━━━━━━━━━━━━━━━━━━━━╇━━━━━━━━━━━━━━━━━━━━━━━━╇━━━━━━━━━━━━━━━┩\n",
       "│ embedding_2 (<span style=\"color: #0087ff; text-decoration-color: #0087ff\">Embedding</span>)         │ (<span style=\"color: #00d7ff; text-decoration-color: #00d7ff\">None</span>, <span style=\"color: #00af00; text-decoration-color: #00af00\">500</span>, <span style=\"color: #00af00; text-decoration-color: #00af00\">128</span>)       │     <span style=\"color: #00af00; text-decoration-color: #00af00\">1,280,000</span> │\n",
       "├─────────────────────────────────┼────────────────────────┼───────────────┤\n",
       "│ simple_rnn_2 (<span style=\"color: #0087ff; text-decoration-color: #0087ff\">SimpleRNN</span>)        │ (<span style=\"color: #00d7ff; text-decoration-color: #00d7ff\">None</span>, <span style=\"color: #00af00; text-decoration-color: #00af00\">128</span>)            │        <span style=\"color: #00af00; text-decoration-color: #00af00\">32,896</span> │\n",
       "├─────────────────────────────────┼────────────────────────┼───────────────┤\n",
       "│ dense_2 (<span style=\"color: #0087ff; text-decoration-color: #0087ff\">Dense</span>)                 │ (<span style=\"color: #00d7ff; text-decoration-color: #00d7ff\">None</span>, <span style=\"color: #00af00; text-decoration-color: #00af00\">1</span>)              │           <span style=\"color: #00af00; text-decoration-color: #00af00\">129</span> │\n",
       "└─────────────────────────────────┴────────────────────────┴───────────────┘\n",
       "</pre>\n"
      ],
      "text/plain": [
       "┏━━━━━━━━━━━━━━━━━━━━━━━━━━━━━━━━━┳━━━━━━━━━━━━━━━━━━━━━━━━┳━━━━━━━━━━━━━━━┓\n",
       "┃\u001b[1m \u001b[0m\u001b[1mLayer (type)                   \u001b[0m\u001b[1m \u001b[0m┃\u001b[1m \u001b[0m\u001b[1mOutput Shape          \u001b[0m\u001b[1m \u001b[0m┃\u001b[1m \u001b[0m\u001b[1m      Param #\u001b[0m\u001b[1m \u001b[0m┃\n",
       "┡━━━━━━━━━━━━━━━━━━━━━━━━━━━━━━━━━╇━━━━━━━━━━━━━━━━━━━━━━━━╇━━━━━━━━━━━━━━━┩\n",
       "│ embedding_2 (\u001b[38;5;33mEmbedding\u001b[0m)         │ (\u001b[38;5;45mNone\u001b[0m, \u001b[38;5;34m500\u001b[0m, \u001b[38;5;34m128\u001b[0m)       │     \u001b[38;5;34m1,280,000\u001b[0m │\n",
       "├─────────────────────────────────┼────────────────────────┼───────────────┤\n",
       "│ simple_rnn_2 (\u001b[38;5;33mSimpleRNN\u001b[0m)        │ (\u001b[38;5;45mNone\u001b[0m, \u001b[38;5;34m128\u001b[0m)            │        \u001b[38;5;34m32,896\u001b[0m │\n",
       "├─────────────────────────────────┼────────────────────────┼───────────────┤\n",
       "│ dense_2 (\u001b[38;5;33mDense\u001b[0m)                 │ (\u001b[38;5;45mNone\u001b[0m, \u001b[38;5;34m1\u001b[0m)              │           \u001b[38;5;34m129\u001b[0m │\n",
       "└─────────────────────────────────┴────────────────────────┴───────────────┘\n"
      ]
     },
     "metadata": {},
     "output_type": "display_data"
    },
    {
     "data": {
      "text/html": [
       "<pre style=\"white-space:pre;overflow-x:auto;line-height:normal;font-family:Menlo,'DejaVu Sans Mono',consolas,'Courier New',monospace\"><span style=\"font-weight: bold\"> Total params: </span><span style=\"color: #00af00; text-decoration-color: #00af00\">1,313,027</span> (5.01 MB)\n",
       "</pre>\n"
      ],
      "text/plain": [
       "\u001b[1m Total params: \u001b[0m\u001b[38;5;34m1,313,027\u001b[0m (5.01 MB)\n"
      ]
     },
     "metadata": {},
     "output_type": "display_data"
    },
    {
     "data": {
      "text/html": [
       "<pre style=\"white-space:pre;overflow-x:auto;line-height:normal;font-family:Menlo,'DejaVu Sans Mono',consolas,'Courier New',monospace\"><span style=\"font-weight: bold\"> Trainable params: </span><span style=\"color: #00af00; text-decoration-color: #00af00\">1,313,025</span> (5.01 MB)\n",
       "</pre>\n"
      ],
      "text/plain": [
       "\u001b[1m Trainable params: \u001b[0m\u001b[38;5;34m1,313,025\u001b[0m (5.01 MB)\n"
      ]
     },
     "metadata": {},
     "output_type": "display_data"
    },
    {
     "data": {
      "text/html": [
       "<pre style=\"white-space:pre;overflow-x:auto;line-height:normal;font-family:Menlo,'DejaVu Sans Mono',consolas,'Courier New',monospace\"><span style=\"font-weight: bold\"> Non-trainable params: </span><span style=\"color: #00af00; text-decoration-color: #00af00\">0</span> (0.00 B)\n",
       "</pre>\n"
      ],
      "text/plain": [
       "\u001b[1m Non-trainable params: \u001b[0m\u001b[38;5;34m0\u001b[0m (0.00 B)\n"
      ]
     },
     "metadata": {},
     "output_type": "display_data"
    },
    {
     "data": {
      "text/html": [
       "<pre style=\"white-space:pre;overflow-x:auto;line-height:normal;font-family:Menlo,'DejaVu Sans Mono',consolas,'Courier New',monospace\"><span style=\"font-weight: bold\"> Optimizer params: </span><span style=\"color: #00af00; text-decoration-color: #00af00\">2</span> (12.00 B)\n",
       "</pre>\n"
      ],
      "text/plain": [
       "\u001b[1m Optimizer params: \u001b[0m\u001b[38;5;34m2\u001b[0m (12.00 B)\n"
      ]
     },
     "metadata": {},
     "output_type": "display_data"
    }
   ],
   "source": [
    "# Load the pre-trained model with ReLU activation\n",
    "model = load_model('simple_rnn_imdb.h5')\n",
    "model.summary()"
   ]
  },
  {
   "cell_type": "code",
   "execution_count": 4,
   "metadata": {},
   "outputs": [
    {
     "data": {
      "text/plain": [
       "[array([[ 8.80197644e-01,  1.15451193e+00,  8.74793679e-02, ...,\n",
       "         -1.10435402e+00, -8.28378022e-01, -1.01375842e+00],\n",
       "        [ 5.25640883e-02, -1.19828004e-02,  9.30487365e-03, ...,\n",
       "          5.85787557e-02,  2.20548566e-02,  7.18830340e-03],\n",
       "        [-4.97772023e-02, -1.57297924e-01, -7.63409829e-04, ...,\n",
       "          3.94932553e-02,  9.47730392e-02,  1.66490585e-01],\n",
       "        ...,\n",
       "        [ 8.74081627e-02,  1.19889583e-02,  2.38984879e-02, ...,\n",
       "         -2.56759971e-02, -2.24263147e-02,  1.31821260e-02],\n",
       "        [-7.80703593e-03,  1.43791318e-01, -1.11568891e-01, ...,\n",
       "         -1.01311214e-01, -9.49319229e-02, -9.76890251e-02],\n",
       "        [ 2.96253376e-02, -6.14149421e-02,  1.14188315e-02, ...,\n",
       "         -1.98584925e-02, -2.08686478e-02,  3.96154728e-03]], dtype=float32),\n",
       " array([[-0.0138208 , -0.0871729 , -0.1124884 , ...,  0.1151045 ,\n",
       "         -0.01396762,  0.06911372],\n",
       "        [ 0.10939572, -0.03695203,  0.05509896, ...,  0.12189109,\n",
       "         -0.12250289, -0.0803015 ],\n",
       "        [-0.13627358,  0.08512577,  0.12597889, ..., -0.13518499,\n",
       "          0.15729946,  0.05666158],\n",
       "        ...,\n",
       "        [-0.1988    ,  0.11818672, -0.08364417, ..., -0.05754016,\n",
       "          0.07501551,  0.10122755],\n",
       "        [ 0.14938591,  0.14178361,  0.03244441, ...,  0.10627473,\n",
       "         -0.21889791,  0.0931825 ],\n",
       "        [-0.0771946 ,  0.17405935,  0.11205275, ..., -0.05570371,\n",
       "         -0.05115793,  0.04132682]], dtype=float32),\n",
       " array([[-0.07574587, -0.04502634, -0.0921433 , ...,  0.07892928,\n",
       "          0.06044501,  0.03804424],\n",
       "        [ 0.04597886,  0.0369155 , -0.04556524, ..., -0.05256677,\n",
       "         -0.02805827,  0.0858711 ],\n",
       "        [-0.10091528, -0.11318571, -0.14176376, ..., -0.13020441,\n",
       "          0.01255697,  0.15551136],\n",
       "        ...,\n",
       "        [ 0.07313091,  0.01164293, -0.05964955, ..., -0.16321802,\n",
       "         -0.04370388,  0.03424621],\n",
       "        [-0.00747706,  0.02734572, -0.07154715, ...,  0.00741484,\n",
       "          0.06197204,  0.14065625],\n",
       "        [ 0.03622767, -0.05221035,  0.04229768, ..., -0.02784482,\n",
       "          0.09952864, -0.19840008]], dtype=float32),\n",
       " array([-0.01064833,  0.03086004, -0.01592707, -0.04146009, -0.01420789,\n",
       "        -0.02441573, -0.00835044, -0.00468505, -0.03765815, -0.02976134,\n",
       "        -0.03131235, -0.00055542, -0.04247295, -0.02720867,  0.03195908,\n",
       "        -0.0296707 , -0.03790634, -0.01861847,  0.00219998, -0.01501646,\n",
       "        -0.01095421,  0.04937645, -0.01473734,  0.03916786, -0.00108946,\n",
       "         0.10030856, -0.02564647, -0.03002051, -0.02295554,  0.04424229,\n",
       "        -0.04376349, -0.02328483,  0.0160147 , -0.00860706, -0.03417566,\n",
       "        -0.01998741, -0.03100028,  0.00275471, -0.02172399, -0.00381495,\n",
       "        -0.01495205,  0.02868152,  0.04154801,  0.00053918, -0.00137442,\n",
       "         0.0062082 , -0.0332183 , -0.00415823, -0.00915078, -0.03998325,\n",
       "        -0.02950282, -0.00173576, -0.00525652, -0.00544745, -0.03067325,\n",
       "        -0.01315951,  0.01308907, -0.00105296,  0.03728124, -0.04288332,\n",
       "         0.01234279, -0.03911214, -0.03875399, -0.01878329,  0.03417804,\n",
       "        -0.01367104,  0.02672097, -0.01671981, -0.03884263,  0.00606315,\n",
       "         0.01757926, -0.04275268,  0.03957892, -0.01628164,  0.00370975,\n",
       "        -0.03547501,  0.05237191,  0.00161837, -0.02066118,  0.01716391,\n",
       "        -0.0343441 , -0.02679322,  0.05575532,  0.04674294,  0.05113844,\n",
       "         0.01322344, -0.01727971,  0.0124023 , -0.02584349,  0.00044682,\n",
       "        -0.02565386, -0.04212804, -0.04938434, -0.03045013, -0.01010278,\n",
       "        -0.03642555, -0.02872048, -0.0222183 ,  0.01486396,  0.02055716,\n",
       "        -0.0123718 ,  0.00077663, -0.02851093, -0.01820761,  0.04603751,\n",
       "         0.00068395,  0.01672751,  0.02102402,  0.03413923, -0.01407213,\n",
       "         0.01239723, -0.00248592, -0.01352905,  0.00732989, -0.03697437,\n",
       "        -0.01546955, -0.00435594, -0.01112731, -0.01682288, -0.01938551,\n",
       "        -0.01282476, -0.01840103, -0.03118531,  0.04425131, -0.00977177,\n",
       "        -0.01502636,  0.00524272,  0.03480393], dtype=float32),\n",
       " array([[-0.4933686 ],\n",
       "        [ 0.20757446],\n",
       "        [-0.10586811],\n",
       "        [ 0.16572838],\n",
       "        [-0.09309337],\n",
       "        [-0.10454883],\n",
       "        [ 0.22497663],\n",
       "        [-0.02744572],\n",
       "        [-0.1199661 ],\n",
       "        [-0.14634946],\n",
       "        [-0.01769367],\n",
       "        [ 0.18052234],\n",
       "        [-0.1285328 ],\n",
       "        [-0.17173219],\n",
       "        [ 0.06639011],\n",
       "        [ 0.07654283],\n",
       "        [-0.12938888],\n",
       "        [ 0.06811111],\n",
       "        [ 0.01525251],\n",
       "        [ 0.0610818 ],\n",
       "        [-0.15834188],\n",
       "        [-0.11327102],\n",
       "        [-0.00350727],\n",
       "        [ 0.06939074],\n",
       "        [ 0.02496954],\n",
       "        [-0.6942069 ],\n",
       "        [ 0.10557556],\n",
       "        [-0.03872452],\n",
       "        [-0.11744391],\n",
       "        [-0.0791411 ],\n",
       "        [-0.10674196],\n",
       "        [ 0.02944254],\n",
       "        [ 0.309757  ],\n",
       "        [-0.08773009],\n",
       "        [-0.17170934],\n",
       "        [-0.14005119],\n",
       "        [-0.02393174],\n",
       "        [ 0.03428623],\n",
       "        [-0.06511424],\n",
       "        [ 0.20616002],\n",
       "        [-0.02248946],\n",
       "        [ 0.02304514],\n",
       "        [ 0.04914036],\n",
       "        [ 0.19901597],\n",
       "        [-0.1020349 ],\n",
       "        [ 0.24450226],\n",
       "        [-0.14909081],\n",
       "        [-1.3641996 ],\n",
       "        [-0.27245656],\n",
       "        [-0.19175573],\n",
       "        [-0.1949388 ],\n",
       "        [-0.12244774],\n",
       "        [-0.02271859],\n",
       "        [-0.17724591],\n",
       "        [ 0.14558363],\n",
       "        [-0.22645636],\n",
       "        [ 0.05951406],\n",
       "        [ 0.13516392],\n",
       "        [ 0.06639595],\n",
       "        [ 0.02919425],\n",
       "        [ 0.16125317],\n",
       "        [-0.18902363],\n",
       "        [-0.23220941],\n",
       "        [ 0.11171881],\n",
       "        [ 0.02424228],\n",
       "        [ 0.00302367],\n",
       "        [-0.26966062],\n",
       "        [ 0.17605479],\n",
       "        [ 0.05015002],\n",
       "        [ 0.06109674],\n",
       "        [ 0.09017293],\n",
       "        [-0.17879027],\n",
       "        [-0.09859291],\n",
       "        [ 0.13676679],\n",
       "        [-0.09982578],\n",
       "        [-0.35256025],\n",
       "        [-0.0858724 ],\n",
       "        [-0.14279649],\n",
       "        [ 0.01554746],\n",
       "        [ 0.23032123],\n",
       "        [-0.14616612],\n",
       "        [-0.111505  ],\n",
       "        [ 0.19430923],\n",
       "        [-0.46824977],\n",
       "        [-0.14540796],\n",
       "        [ 0.05527579],\n",
       "        [ 0.10251142],\n",
       "        [ 0.03525334],\n",
       "        [ 0.15379804],\n",
       "        [ 0.17244506],\n",
       "        [-0.06145466],\n",
       "        [-0.16417402],\n",
       "        [ 0.05740422],\n",
       "        [ 0.34305534],\n",
       "        [-0.04911322],\n",
       "        [ 0.09885545],\n",
       "        [ 0.1970459 ],\n",
       "        [ 0.09688228],\n",
       "        [ 0.04151211],\n",
       "        [-0.02400896],\n",
       "        [-0.13283779],\n",
       "        [-0.03173231],\n",
       "        [-0.02685946],\n",
       "        [ 0.12867296],\n",
       "        [-0.0906852 ],\n",
       "        [ 0.1524438 ],\n",
       "        [ 0.09534782],\n",
       "        [-0.0139283 ],\n",
       "        [-0.0453312 ],\n",
       "        [ 0.1232383 ],\n",
       "        [-0.05312985],\n",
       "        [-0.24939884],\n",
       "        [ 0.01856224],\n",
       "        [ 0.15000775],\n",
       "        [-0.16075389],\n",
       "        [ 0.21068111],\n",
       "        [ 0.13054264],\n",
       "        [-0.05873242],\n",
       "        [ 0.00985852],\n",
       "        [-0.07238745],\n",
       "        [ 0.0233279 ],\n",
       "        [ 0.0332098 ],\n",
       "        [ 0.13854508],\n",
       "        [ 0.0149914 ],\n",
       "        [-0.18426506],\n",
       "        [-0.03144886],\n",
       "        [ 0.01642635],\n",
       "        [ 0.08967375]], dtype=float32),\n",
       " array([-0.63940245], dtype=float32)]"
      ]
     },
     "execution_count": 4,
     "metadata": {},
     "output_type": "execute_result"
    }
   ],
   "source": [
    "model.get_weights()"
   ]
  },
  {
   "cell_type": "code",
   "execution_count": 5,
   "metadata": {},
   "outputs": [],
   "source": [
    "# Step 2: Helper Functions\n",
    "# Function to decode reviews\n",
    "def decode_review(encoded_review):\n",
    "    return ' '.join([reverse_word_index.get(i - 3, '?') for i in encoded_review])\n",
    "\n",
    "# Function to preprocess user input\n",
    "def preprocess_text(text):\n",
    "    words = text.lower().split()\n",
    "    encoded_review = [word_index.get(word, 2) + 3 for word in words]\n",
    "    padded_review = sequence.pad_sequences([encoded_review], maxlen=500)\n",
    "    return padded_review"
   ]
  },
  {
   "cell_type": "code",
   "execution_count": 6,
   "metadata": {},
   "outputs": [],
   "source": [
    "### Prediction  function\n",
    "\n",
    "def predict_sentiment(review):\n",
    "    preprocessed_input=preprocess_text(review)\n",
    "\n",
    "    prediction=model.predict(preprocessed_input)\n",
    "\n",
    "    sentiment = 'Positive' if prediction[0][0] > 0.5 else 'Negative'\n",
    "    \n",
    "    return sentiment, prediction[0][0]\n",
    "\n"
   ]
  },
  {
   "cell_type": "code",
   "execution_count": 7,
   "metadata": {},
   "outputs": [
    {
     "name": "stdout",
     "output_type": "stream",
     "text": [
      "\u001b[1m1/1\u001b[0m \u001b[32m━━━━━━━━━━━━━━━━━━━━\u001b[0m\u001b[37m\u001b[0m \u001b[1m0s\u001b[0m 138ms/step\n",
      "Review: This movie was fantastic! The acting was great and the plot was thrilling.\n",
      "Sentiment: Positive\n",
      "Prediction Score: 0.7982342839241028\n"
     ]
    }
   ],
   "source": [
    "# Step 4: User Input and Prediction\n",
    "# Example review for prediction\n",
    "example_review = \"This movie was fantastic! The acting was great and the plot was thrilling.\"\n",
    "\n",
    "sentiment,score=predict_sentiment(example_review)\n",
    "\n",
    "print(f'Review: {example_review}')\n",
    "print(f'Sentiment: {sentiment}')\n",
    "print(f'Prediction Score: {score}')"
   ]
  },
  {
   "cell_type": "code",
   "execution_count": null,
   "metadata": {},
   "outputs": [],
   "source": []
  },
  {
   "cell_type": "code",
   "execution_count": null,
   "metadata": {},
   "outputs": [],
   "source": []
  },
  {
   "cell_type": "code",
   "execution_count": null,
   "metadata": {},
   "outputs": [],
   "source": []
  },
  {
   "cell_type": "code",
   "execution_count": null,
   "metadata": {},
   "outputs": [],
   "source": []
  }
 ],
 "metadata": {
  "kernelspec": {
   "display_name": "Python 3",
   "language": "python",
   "name": "python3"
  },
  "language_info": {
   "codemirror_mode": {
    "name": "ipython",
    "version": 3
   },
   "file_extension": ".py",
   "mimetype": "text/x-python",
   "name": "python",
   "nbconvert_exporter": "python",
   "pygments_lexer": "ipython3",
   "version": "3.10.0"
  }
 },
 "nbformat": 4,
 "nbformat_minor": 2
}
